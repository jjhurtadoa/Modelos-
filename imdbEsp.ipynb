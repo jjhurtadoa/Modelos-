{
  "nbformat": 4,
  "nbformat_minor": 0,
  "metadata": {
    "colab": {
      "name": "imdbEsp.ipynb",
      "provenance": [],
      "collapsed_sections": [
        "2zCfIMd-wmhh"
      ],
      "authorship_tag": "ABX9TyOlngJSvMzXAvTNU+fZ6Y05",
      "include_colab_link": true
    },
    "kernelspec": {
      "name": "python3",
      "display_name": "Python 3"
    },
    "language_info": {
      "name": "python"
    }
  },
  "cells": [
    {
      "cell_type": "markdown",
      "metadata": {
        "id": "view-in-github",
        "colab_type": "text"
      },
      "source": [
        "<a href=\"https://colab.research.google.com/github/jjhurtadoa/Modelos-/blob/main/imdbEsp.ipynb\" target=\"_parent\"><img src=\"https://colab.research.google.com/assets/colab-badge.svg\" alt=\"Open In Colab\"/></a>"
      ]
    },
    {
      "cell_type": "markdown",
      "metadata": {
        "id": "2zCfIMd-wmhh"
      },
      "source": [
        "# Drive"
      ]
    },
    {
      "cell_type": "code",
      "metadata": {
        "colab": {
          "base_uri": "https://localhost:8080/"
        },
        "id": "QmZjeN24O33x",
        "outputId": "b4f291a2-f406-43da-9dd1-40d6799b7ce9"
      },
      "source": [
        "from google.colab import drive\n",
        "drive.mount('/content/drive')"
      ],
      "execution_count": null,
      "outputs": [
        {
          "output_type": "stream",
          "name": "stdout",
          "text": [
            "Drive already mounted at /content/drive; to attempt to forcibly remount, call drive.mount(\"/content/drive\", force_remount=True).\n"
          ]
        }
      ]
    },
    {
      "cell_type": "markdown",
      "metadata": {
        "id": "kzRSMXCuwjot"
      },
      "source": [
        "# Preprocesamiento"
      ]
    },
    {
      "cell_type": "markdown",
      "metadata": {
        "id": "Gj4JkFTF3YE-"
      },
      "source": [
        "No es necesario correrlo de nuevo, al final de esta etapa se genera un archivo para entrenar el modelo. Se deja para ilustrar cómo se realiza"
      ]
    },
    {
      "cell_type": "code",
      "metadata": {
        "id": "2fJ27nnvbm3_"
      },
      "source": [
        "pip install spacy==2.3.5"
      ],
      "execution_count": null,
      "outputs": []
    },
    {
      "cell_type": "code",
      "metadata": {
        "id": "mQ5S1DG1YcgF"
      },
      "source": [
        "!spacy download es_core_news_sm"
      ],
      "execution_count": null,
      "outputs": []
    },
    {
      "cell_type": "code",
      "metadata": {
        "id": "EXeYQrPRQXq4"
      },
      "source": [
        "import pandas as pd \n",
        "import nltk \n",
        "nltk.download('stopwords')\n",
        "import spacy\n",
        "from nltk.corpus import stopwords"
      ],
      "execution_count": null,
      "outputs": []
    },
    {
      "cell_type": "code",
      "metadata": {
        "id": "HGpFdBcfQIFd"
      },
      "source": [
        "#Se debe poner la ruta específica donde esté el archivo 'data_esp.csv'\n",
        "df=pd.read_csv('/content/drive/MyDrive/Tecno-Inclusion/MineriaTexto/Español_Analisis/data_esp.csv') \n",
        "df = df.drop(['Unnamed: 0','review'],axis=1)\n",
        "df.rename(columns={'esp':'review'}, inplace= True)\n",
        "df"
      ],
      "execution_count": null,
      "outputs": []
    },
    {
      "cell_type": "markdown",
      "metadata": {
        "id": "kDsMk1Q03iMI"
      },
      "source": [
        "Lematización y limpieza de texto apoyados en la librería spacy"
      ]
    },
    {
      "cell_type": "code",
      "metadata": {
        "colab": {
          "base_uri": "https://localhost:8080/",
          "height": 35
        },
        "id": "yDTJa13SW7zI",
        "outputId": "10bd1c89-ddbb-4714-ef98-7e5675a70dba"
      },
      "source": [
        "nlp = spacy.load('es_core_news_sm')\n",
        "\n",
        "def normalize(text):\n",
        "    doc = nlp(text)\n",
        "    lemmas = [t.lemma_ for t in doc if not t.is_punct | t.is_stop ]\n",
        "    lexical_tokens = [t.lower() for t in lemmas if len(t) > 3 and  t.isalpha()]\n",
        "    #lemmas = [tok.lemma_ for tok in lexical_tokens]\n",
        "    text = \" \".join(lexical_tokens)\n",
        "\n",
        "    return text\n",
        "normalized = normalize(\"Soy un texto de prueba. ¿Cuántos tokens me quedarán después de la normalización?\")\n",
        "normalized"
      ],
      "execution_count": null,
      "outputs": [
        {
          "output_type": "execute_result",
          "data": {
            "application/vnd.google.colaboratory.intrinsic+json": {
              "type": "string"
            },
            "text/plain": [
              "'texto probar tokens quedar normalización'"
            ]
          },
          "metadata": {},
          "execution_count": 27
        }
      ]
    },
    {
      "cell_type": "code",
      "metadata": {
        "colab": {
          "base_uri": "https://localhost:8080/",
          "height": 206
        },
        "id": "fltZJZOjfHYI",
        "outputId": "878f8823-fac0-452f-dd21-228fcd8c3ea8"
      },
      "source": [
        "df['Processed_Reviews'] = df.review.apply(lambda x: normalize(x))\n",
        "df.head()"
      ],
      "execution_count": null,
      "outputs": [
        {
          "output_type": "execute_result",
          "data": {
            "text/html": [
              "<div>\n",
              "<style scoped>\n",
              "    .dataframe tbody tr th:only-of-type {\n",
              "        vertical-align: middle;\n",
              "    }\n",
              "\n",
              "    .dataframe tbody tr th {\n",
              "        vertical-align: top;\n",
              "    }\n",
              "\n",
              "    .dataframe thead th {\n",
              "        text-align: right;\n",
              "    }\n",
              "</style>\n",
              "<table border=\"1\" class=\"dataframe\">\n",
              "  <thead>\n",
              "    <tr style=\"text-align: right;\">\n",
              "      <th></th>\n",
              "      <th>sentiment</th>\n",
              "      <th>review</th>\n",
              "      <th>Processed_Reviews</th>\n",
              "    </tr>\n",
              "  </thead>\n",
              "  <tbody>\n",
              "    <tr>\n",
              "      <th>0</th>\n",
              "      <td>0</td>\n",
              "      <td>Una vez más, el Sr. Costner ha arrastrado una ...</td>\n",
              "      <td>costner arrastrar película necesario aparte ex...</td>\n",
              "    </tr>\n",
              "    <tr>\n",
              "      <th>1</th>\n",
              "      <td>0</td>\n",
              "      <td>Este es un ejemplo de por qué la mayoría de la...</td>\n",
              "      <td>mayoría película acción genérico aburrir realm...</td>\n",
              "    </tr>\n",
              "    <tr>\n",
              "      <th>2</th>\n",
              "      <td>0</td>\n",
              "      <td>En primer lugar, odio a esos raperos morones, ...</td>\n",
              "      <td>odiar rapero morón poder actuar tener pistola ...</td>\n",
              "    </tr>\n",
              "    <tr>\n",
              "      <th>3</th>\n",
              "      <td>0</td>\n",
              "      <td>Ni siquiera los Beatles podrían escribir canci...</td>\n",
              "      <td>siquiera beatles escribir canción gustar walte...</td>\n",
              "    </tr>\n",
              "    <tr>\n",
              "      <th>4</th>\n",
              "      <td>0</td>\n",
              "      <td>Imágenes de latón (las películas no son una pa...</td>\n",
              "      <td>imágenes latón película palabra apropiar realm...</td>\n",
              "    </tr>\n",
              "  </tbody>\n",
              "</table>\n",
              "</div>"
            ],
            "text/plain": [
              "   sentiment  ...                                  Processed_Reviews\n",
              "0          0  ...  costner arrastrar película necesario aparte ex...\n",
              "1          0  ...  mayoría película acción genérico aburrir realm...\n",
              "2          0  ...  odiar rapero morón poder actuar tener pistola ...\n",
              "3          0  ...  siquiera beatles escribir canción gustar walte...\n",
              "4          0  ...  imágenes latón película palabra apropiar realm...\n",
              "\n",
              "[5 rows x 3 columns]"
            ]
          },
          "metadata": {},
          "execution_count": 28
        }
      ]
    },
    {
      "cell_type": "code",
      "metadata": {
        "id": "g5L5ywsZu2W4"
      },
      "source": [
        "df.to_csv('data_processed.csv')"
      ],
      "execution_count": null,
      "outputs": []
    },
    {
      "cell_type": "markdown",
      "metadata": {
        "id": "Bs5X8cQ4wrSy"
      },
      "source": [
        "# Preparacion de datos"
      ]
    },
    {
      "cell_type": "code",
      "metadata": {
        "id": "TlaRnUhbyCl6"
      },
      "source": [
        "from importlib import  reload\n",
        "import sys\n",
        "from imp import  reload\n",
        "import warnings\n",
        "warnings.filterwarnings('ignore') \n",
        "  \n",
        "import tensorflow as tf\n",
        "import tensorflow.keras as keras\n",
        "from tensorflow.keras.preprocessing.text import Tokenizer\n",
        "from tensorflow.keras.preprocessing.sequence import pad_sequences\n",
        "from tensorflow.keras.layers import Concatenate, Dense, Input, LSTM, Embedding, Dropout, Activation, GRU, Flatten\n",
        "from tensorflow.keras.layers import Bidirectional, GlobalMaxPool1D\n",
        "from tensorflow.keras.models import Model, Sequential\n",
        "from tensorflow.keras.layers import Convolution1D\n",
        "from tensorflow.keras import initializers, regularizers, constraints, optimizers, layers\n",
        "from sklearn.model_selection import train_test_split\n"
      ],
      "execution_count": null,
      "outputs": []
    },
    {
      "cell_type": "code",
      "metadata": {
        "colab": {
          "base_uri": "https://localhost:8080/",
          "height": 424
        },
        "id": "qOEw1Rh3w9Uu",
        "outputId": "7b86a27e-e857-4a1c-d992-35c93020db96"
      },
      "source": [
        "import pandas as pd \n",
        "#Se debe poner la ruta específica donde esté el archivo 'data_processed.csv'\n",
        "df=pd.read_csv('/content/drive/MyDrive/Tecno-Inclusion/MineriaTexto/Español_Analisis/data_processed.csv')\n",
        "df = df.drop(['Unnamed: 0'],axis=1)\n",
        "df"
      ],
      "execution_count": null,
      "outputs": [
        {
          "output_type": "execute_result",
          "data": {
            "text/html": [
              "<div>\n",
              "<style scoped>\n",
              "    .dataframe tbody tr th:only-of-type {\n",
              "        vertical-align: middle;\n",
              "    }\n",
              "\n",
              "    .dataframe tbody tr th {\n",
              "        vertical-align: top;\n",
              "    }\n",
              "\n",
              "    .dataframe thead th {\n",
              "        text-align: right;\n",
              "    }\n",
              "</style>\n",
              "<table border=\"1\" class=\"dataframe\">\n",
              "  <thead>\n",
              "    <tr style=\"text-align: right;\">\n",
              "      <th></th>\n",
              "      <th>sentiment</th>\n",
              "      <th>review</th>\n",
              "      <th>Processed_Reviews</th>\n",
              "    </tr>\n",
              "  </thead>\n",
              "  <tbody>\n",
              "    <tr>\n",
              "      <th>0</th>\n",
              "      <td>0</td>\n",
              "      <td>Una vez más, el Sr. Costner ha arrastrado una ...</td>\n",
              "      <td>costner arrastrar película necesario aparte ex...</td>\n",
              "    </tr>\n",
              "    <tr>\n",
              "      <th>1</th>\n",
              "      <td>0</td>\n",
              "      <td>Este es un ejemplo de por qué la mayoría de la...</td>\n",
              "      <td>mayoría película acción genérico aburrir realm...</td>\n",
              "    </tr>\n",
              "    <tr>\n",
              "      <th>2</th>\n",
              "      <td>0</td>\n",
              "      <td>En primer lugar, odio a esos raperos morones, ...</td>\n",
              "      <td>odiar rapero morón poder actuar tener pistola ...</td>\n",
              "    </tr>\n",
              "    <tr>\n",
              "      <th>3</th>\n",
              "      <td>0</td>\n",
              "      <td>Ni siquiera los Beatles podrían escribir canci...</td>\n",
              "      <td>siquiera beatles escribir canción gustar walte...</td>\n",
              "    </tr>\n",
              "    <tr>\n",
              "      <th>4</th>\n",
              "      <td>0</td>\n",
              "      <td>Imágenes de latón (las películas no son una pa...</td>\n",
              "      <td>imágenes latón película palabra apropiar realm...</td>\n",
              "    </tr>\n",
              "    <tr>\n",
              "      <th>...</th>\n",
              "      <td>...</td>\n",
              "      <td>...</td>\n",
              "      <td>...</td>\n",
              "    </tr>\n",
              "    <tr>\n",
              "      <th>9563</th>\n",
              "      <td>1</td>\n",
              "      <td>Al ver que el promedio de votos era bastante b...</td>\n",
              "      <td>promediar voto secretario tender video pensar ...</td>\n",
              "    </tr>\n",
              "    <tr>\n",
              "      <th>9564</th>\n",
              "      <td>1</td>\n",
              "      <td>La trama tenía algunos giros desgraciados, inc...</td>\n",
              "      <td>tramar giro desgraciar increíble químico brook...</td>\n",
              "    </tr>\n",
              "    <tr>\n",
              "      <th>9565</th>\n",
              "      <td>1</td>\n",
              "      <td>Estoy sorprendido de cómo esta película (y la ...</td>\n",
              "      <td>sorprender película mayoría promediar estrella...</td>\n",
              "    </tr>\n",
              "    <tr>\n",
              "      <th>9566</th>\n",
              "      <td>1</td>\n",
              "      <td>Una Navidad juntos en realidad llegó antes de ...</td>\n",
              "      <td>navidad junto realidad criar john denver canci...</td>\n",
              "    </tr>\n",
              "    <tr>\n",
              "      <th>9567</th>\n",
              "      <td>1</td>\n",
              "      <td>El drama romántico de la clase trabajadora del...</td>\n",
              "      <td>drama romántico clase trabajador director mart...</td>\n",
              "    </tr>\n",
              "  </tbody>\n",
              "</table>\n",
              "<p>9568 rows × 3 columns</p>\n",
              "</div>"
            ],
            "text/plain": [
              "      sentiment  ...                                  Processed_Reviews\n",
              "0             0  ...  costner arrastrar película necesario aparte ex...\n",
              "1             0  ...  mayoría película acción genérico aburrir realm...\n",
              "2             0  ...  odiar rapero morón poder actuar tener pistola ...\n",
              "3             0  ...  siquiera beatles escribir canción gustar walte...\n",
              "4             0  ...  imágenes latón película palabra apropiar realm...\n",
              "...         ...  ...                                                ...\n",
              "9563          1  ...  promediar voto secretario tender video pensar ...\n",
              "9564          1  ...  tramar giro desgraciar increíble químico brook...\n",
              "9565          1  ...  sorprender película mayoría promediar estrella...\n",
              "9566          1  ...  navidad junto realidad criar john denver canci...\n",
              "9567          1  ...  drama romántico clase trabajador director mart...\n",
              "\n",
              "[9568 rows x 3 columns]"
            ]
          },
          "metadata": {},
          "execution_count": 35
        }
      ]
    },
    {
      "cell_type": "code",
      "metadata": {
        "id": "BoQvEOteyM0Z"
      },
      "source": [
        "MAX_FEATURES = 6000\n",
        "EMBED_SIZE = 128\n",
        "tokenizer = Tokenizer(num_words=MAX_FEATURES)\n",
        "tokenizer.fit_on_texts(df['Processed_Reviews'])\n",
        "list_tokenized_train = tokenizer.texts_to_sequences(df['Processed_Reviews'])\n",
        "  \n",
        "RNN_CELL_SIZE = 32\n",
        "  \n",
        "MAX_LEN = 130  # Since our mean length is 128.5\n",
        "\n",
        "\n",
        "X = pad_sequences(list_tokenized_train, maxlen=MAX_LEN)\n",
        "y = df['sentiment']\n",
        "\n",
        "X_train, X_test, y_train, y_test = train_test_split(\n",
        "    X, y, test_size=0.3, random_state=42)"
      ],
      "execution_count": null,
      "outputs": []
    },
    {
      "cell_type": "markdown",
      "metadata": {
        "id": "OorGsRKOyPvX"
      },
      "source": [
        "# Creación del modelo"
      ]
    },
    {
      "cell_type": "code",
      "metadata": {
        "id": "p12MB3FvND-u"
      },
      "source": [
        "class Attention(tf.keras.Model):\n",
        "    def __init__(self, units):\n",
        "        super(Attention, self).__init__()\n",
        "        self.W1 = tf.keras.layers.Dense(units)\n",
        "        self.W2 = tf.keras.layers.Dense(units)\n",
        "        self.V = tf.keras.layers.Dense(1)\n",
        "\n",
        "    def call(self, features, hidden):\n",
        "        # hidden shape == (batch_size, hidden size)\n",
        "        # hidden_with_time_axis shape == (batch_size, 1, hidden size)\n",
        "        # we are doing this to perform addition to calculate the score\n",
        "        hidden_with_time_axis = tf.expand_dims(hidden, 1)\n",
        "          \n",
        "        # score shape == (batch_size, max_length, 1)\n",
        "        # we get 1 at the last axis because we are applying score to self.V\n",
        "        # the shape of the tensor before applying self.V is (batch_size, max_length, units)\n",
        "        score = tf.nn.tanh(\n",
        "            self.W1(features) + self.W2(hidden_with_time_axis))\n",
        "        # attention_weights shape == (batch_size, max_length, 1)\n",
        "        attention_weights = tf.nn.softmax(self.V(score), axis=1)\n",
        "          \n",
        "        # context_vector shape after sum == (batch_size, hidden_size)\n",
        "        context_vector = attention_weights * features\n",
        "        context_vector = tf.reduce_sum(context_vector, axis=1)\n",
        "        return context_vector, attention_weights"
      ],
      "execution_count": null,
      "outputs": []
    },
    {
      "cell_type": "code",
      "metadata": {
        "id": "CW4MjQShyPRz"
      },
      "source": [
        "sequence_input = Input(shape=(MAX_LEN,), dtype=\"int32\")\n",
        "embedded_sequences = Embedding(MAX_FEATURES, EMBED_SIZE)(sequence_input)"
      ],
      "execution_count": null,
      "outputs": []
    },
    {
      "cell_type": "code",
      "metadata": {
        "id": "2Pqmo95ONz6O"
      },
      "source": [
        "lstm = Bidirectional(LSTM(RNN_CELL_SIZE, return_sequences = True), name=\"bi_lstm_0\")(embedded_sequences)\n",
        "\n",
        "# Getting our LSTM outputs\n",
        "(lstm, forward_h, forward_c, backward_h, backward_c) = Bidirectional(LSTM(RNN_CELL_SIZE, return_sequences=True, return_state=True), name=\"bi_lstm_1\")(lstm)"
      ],
      "execution_count": null,
      "outputs": []
    },
    {
      "cell_type": "code",
      "metadata": {
        "id": "My4APDrnzumN"
      },
      "source": [
        "state_h = Concatenate()([forward_h, backward_h])\n",
        "state_c = Concatenate()([forward_c, backward_c])\n",
        "context_vector, attention_weights = Attention(10)(lstm, state_h)\n",
        "dense1 = Dense(20, activation=\"relu\")(context_vector)\n",
        "dropout = Dropout(0.05)(dense1)\n",
        "output = Dense(1, activation=\"sigmoid\")(dropout)\n",
        "  \n",
        "model = keras.Model(inputs=sequence_input, outputs=output)"
      ],
      "execution_count": null,
      "outputs": []
    },
    {
      "cell_type": "code",
      "metadata": {
        "colab": {
          "base_uri": "https://localhost:8080/"
        },
        "id": "iAAucF4Yzz8A",
        "outputId": "562a5313-c42c-4b43-c8ea-14bd211f6ada"
      },
      "source": [
        "# summarize layers\n",
        "print(model.summary())"
      ],
      "execution_count": null,
      "outputs": [
        {
          "output_type": "stream",
          "name": "stdout",
          "text": [
            "Model: \"model_1\"\n",
            "__________________________________________________________________________________________________\n",
            "Layer (type)                    Output Shape         Param #     Connected to                     \n",
            "==================================================================================================\n",
            "input_1 (InputLayer)            [(None, 130)]        0                                            \n",
            "__________________________________________________________________________________________________\n",
            "embedding (Embedding)           (None, 130, 128)     768000      input_1[0][0]                    \n",
            "__________________________________________________________________________________________________\n",
            "bi_lstm_0 (Bidirectional)       (None, 130, 64)      41216       embedding[0][0]                  \n",
            "__________________________________________________________________________________________________\n",
            "bi_lstm_1 (Bidirectional)       [(None, 130, 64), (N 24832       bi_lstm_0[0][0]                  \n",
            "__________________________________________________________________________________________________\n",
            "concatenate_2 (Concatenate)     (None, 64)           0           bi_lstm_1[0][1]                  \n",
            "                                                                 bi_lstm_1[0][3]                  \n",
            "__________________________________________________________________________________________________\n",
            "attention_1 (Attention)         ((None, 64), (None,  1311        bi_lstm_1[0][0]                  \n",
            "                                                                 concatenate_2[0][0]              \n",
            "__________________________________________________________________________________________________\n",
            "dense_8 (Dense)                 (None, 20)           1300        attention_1[0][0]                \n",
            "__________________________________________________________________________________________________\n",
            "dropout_1 (Dropout)             (None, 20)           0           dense_8[0][0]                    \n",
            "__________________________________________________________________________________________________\n",
            "dense_9 (Dense)                 (None, 1)            21          dropout_1[0][0]                  \n",
            "==================================================================================================\n",
            "Total params: 836,680\n",
            "Trainable params: 836,680\n",
            "Non-trainable params: 0\n",
            "__________________________________________________________________________________________________\n",
            "None\n"
          ]
        }
      ]
    },
    {
      "cell_type": "code",
      "metadata": {
        "id": "9iEI_ZH-z3oQ"
      },
      "source": [
        "METRICS = [\n",
        "    keras.metrics.TruePositives(name='tp'),\n",
        "    keras.metrics.FalsePositives(name='fp'),\n",
        "    keras.metrics.TrueNegatives(name='tn'),\n",
        "    keras.metrics.FalseNegatives(name='fn'),\n",
        "    keras.metrics.BinaryAccuracy(name='accuracy'),\n",
        "    keras.metrics.Precision(name='precision'),\n",
        "    keras.metrics.Recall(name='recall'),\n",
        "    keras.metrics.AUC(name='auc'),\n",
        "]\n",
        "\n",
        "model.compile(loss='binary_crossentropy',\n",
        "              optimizer='adam',\n",
        "              metrics=METRICS)"
      ],
      "execution_count": null,
      "outputs": []
    },
    {
      "cell_type": "code",
      "metadata": {
        "colab": {
          "base_uri": "https://localhost:8080/"
        },
        "id": "Qf1evybez5av",
        "outputId": "effc653f-317d-4020-d7df-368d2cddb6b5"
      },
      "source": [
        "BATCH_SIZE = 100\n",
        "EPOCHS = 5\n",
        "history = model.fit(X_train,y_train,\n",
        "                    batch_size=BATCH_SIZE,\n",
        "                    epochs=EPOCHS,\n",
        "                    validation_split=0.2)"
      ],
      "execution_count": null,
      "outputs": [
        {
          "output_type": "stream",
          "name": "stdout",
          "text": [
            "Epoch 1/5\n",
            "54/54 [==============================] - 33s 430ms/step - loss: 0.6041 - tp: 2277.0000 - fp: 1320.0000 - tn: 1324.0000 - fn: 436.0000 - accuracy: 0.6722 - precision: 0.6330 - recall: 0.8393 - auc: 0.7611 - val_loss: 0.3976 - val_tp: 641.0000 - val_fp: 148.0000 - val_tn: 494.0000 - val_fn: 57.0000 - val_accuracy: 0.8470 - val_precision: 0.8124 - val_recall: 0.9183 - val_auc: 0.9303\n",
            "Epoch 2/5\n",
            "54/54 [==============================] - 22s 410ms/step - loss: 0.2637 - tp: 2482.0000 - fp: 324.0000 - tn: 2320.0000 - fn: 231.0000 - accuracy: 0.8964 - precision: 0.8845 - recall: 0.9149 - auc: 0.9567 - val_loss: 0.3287 - val_tp: 587.0000 - val_fp: 72.0000 - val_tn: 570.0000 - val_fn: 111.0000 - val_accuracy: 0.8634 - val_precision: 0.8907 - val_recall: 0.8410 - val_auc: 0.9422\n",
            "Epoch 3/5\n",
            "54/54 [==============================] - 22s 407ms/step - loss: 0.1407 - tp: 2605.0000 - fp: 130.0000 - tn: 2514.0000 - fn: 108.0000 - accuracy: 0.9556 - precision: 0.9525 - recall: 0.9602 - auc: 0.9846 - val_loss: 0.3773 - val_tp: 610.0000 - val_fp: 97.0000 - val_tn: 545.0000 - val_fn: 88.0000 - val_accuracy: 0.8619 - val_precision: 0.8628 - val_recall: 0.8739 - val_auc: 0.9382\n",
            "Epoch 4/5\n",
            "54/54 [==============================] - 22s 403ms/step - loss: 0.0741 - tp: 2657.0000 - fp: 61.0000 - tn: 2583.0000 - fn: 56.0000 - accuracy: 0.9782 - precision: 0.9776 - recall: 0.9794 - auc: 0.9945 - val_loss: 0.4336 - val_tp: 617.0000 - val_fp: 106.0000 - val_tn: 536.0000 - val_fn: 81.0000 - val_accuracy: 0.8604 - val_precision: 0.8534 - val_recall: 0.8840 - val_auc: 0.9329\n",
            "Epoch 5/5\n",
            "54/54 [==============================] - 21s 391ms/step - loss: 0.0389 - tp: 2683.0000 - fp: 24.0000 - tn: 2620.0000 - fn: 30.0000 - accuracy: 0.9899 - precision: 0.9911 - recall: 0.9889 - auc: 0.9970 - val_loss: 0.5646 - val_tp: 600.0000 - val_fp: 95.0000 - val_tn: 547.0000 - val_fn: 98.0000 - val_accuracy: 0.8560 - val_precision: 0.8633 - val_recall: 0.8596 - val_auc: 0.9159\n"
          ]
        }
      ]
    },
    {
      "cell_type": "code",
      "metadata": {
        "colab": {
          "base_uri": "https://localhost:8080/"
        },
        "id": "zPNUmBtH3eSf",
        "outputId": "031030ad-5be2-482c-a7b2-69762efca528"
      },
      "source": [
        "X_test"
      ],
      "execution_count": null,
      "outputs": [
        {
          "output_type": "execute_result",
          "data": {
            "text/plain": [
              "array([[   0,    0,    0, ..., 1202,    1,   19],\n",
              "       [   0,    0,    0, ...,   61,   35,    1],\n",
              "       [   0,    0,    0, ...,  646,  645,  147],\n",
              "       ...,\n",
              "       [   0,    0,    0, ...,    1,   10,  357],\n",
              "       [   0,    0,    0, ..., 5453,  149,  268],\n",
              "       [   0,    0,    0, ..., 1413, 4579, 1394]], dtype=int32)"
            ]
          },
          "metadata": {},
          "execution_count": 53
        }
      ]
    },
    {
      "cell_type": "code",
      "metadata": {
        "id": "-BIBAA8O3T7f"
      },
      "source": [
        "prediction = model.predict(X_test)\n",
        "y_pred = [1 if (x > 0.5) else 0 for x in prediction]\n"
      ],
      "execution_count": null,
      "outputs": []
    },
    {
      "cell_type": "code",
      "metadata": {
        "colab": {
          "base_uri": "https://localhost:8080/",
          "height": 504
        },
        "id": "I9TzCd3w3wTq",
        "outputId": "744a55c1-ee3d-4ed7-de36-a97e971146db"
      },
      "source": [
        "import numpy as np\n",
        "import matplotlib as mpl\n",
        "import matplotlib.pyplot as plt\n",
        "import seaborn as sns\n",
        "from sklearn.metrics import (classification_report,\n",
        "                             confusion_matrix,\n",
        "                             roc_auc_score)\n",
        "%matplotlib inline\n",
        "%config InlineBackend.figure_format = 'retina'\n",
        "  \n",
        "report = classification_report(y_test, y_pred)\n",
        "print(report)\n",
        "  \n",
        "def plot_cm(labels, predictions, p=0.5):\n",
        "    cm = confusion_matrix(labels, predictions)\n",
        "    plt.figure(figsize=(5, 5))\n",
        "    sns.heatmap(cm, annot=True, fmt=\"d\")\n",
        "    plt.title(\"Confusion matrix (non-normalized))\")\n",
        "    plt.ylabel(\"Actual label\")\n",
        "    plt.xlabel(\"Predicted label\")\n",
        "  \n",
        "plot_cm(y_test, y_pred)"
      ],
      "execution_count": null,
      "outputs": [
        {
          "output_type": "stream",
          "name": "stdout",
          "text": [
            "              precision    recall  f1-score   support\n",
            "\n",
            "           0       0.82      0.85      0.84      1432\n",
            "           1       0.85      0.82      0.83      1439\n",
            "\n",
            "    accuracy                           0.83      2871\n",
            "   macro avg       0.84      0.83      0.83      2871\n",
            "weighted avg       0.84      0.83      0.83      2871\n",
            "\n"
          ]
        },
        {
          "output_type": "display_data",
          "data": {
            "image/png": "[encoded data removed]",
            "text/plain": [
              "<Figure size 360x360 with 2 Axes>"
            ]
          },
          "metadata": {
            "image/png": {
              "width": 327,
              "height": 331
            },
            "needs_background": "light"
          }
        }
      ]
    },
    {
      "cell_type": "code",
      "metadata": {
        "colab": {
          "base_uri": "https://localhost:8080/",
          "height": 403
        },
        "id": "_3QtXjnLXRfp",
        "outputId": "593d7ec4-94c0-403a-a235-52c06ef1a022"
      },
      "source": [
        "import numpy as np\n",
        "import matplotlib.pyplot as plt\n",
        "from itertools import cycle\n",
        "  \n",
        "mpl.rcParams[\"figure.figsize\"] = (6, 6)\n",
        "  \n",
        "from sklearn import svm, datasets\n",
        "from sklearn.metrics import roc_curve, auc\n",
        "from sklearn.model_selection import train_test_split\n",
        "from sklearn.preprocessing import label_binarize\n",
        "from scipy import interp\n",
        "from sklearn.metrics import roc_auc_score\n",
        "  \n",
        "# Binarize the output\n",
        "y_bin = label_binarize(y_test, classes=[0, 1])\n",
        "n_classes = 1\n",
        "  \n",
        "# Compute ROC curve and ROC area for each class\n",
        "fpr = dict()\n",
        "tpr = dict()\n",
        "roc_auc = dict()\n",
        "for i in  range(n_classes):\n",
        "    fpr[i], tpr[i], _ = roc_curve(y_test.ravel(), y_pred)\n",
        "    roc_auc[i] = auc(fpr[i], tpr[i])\n",
        "  \n",
        "# Compute micro-average ROC curve and ROC area\n",
        "fpr[\"micro\"], tpr[\"micro\"], _ = roc_curve(y_test.ravel(), y_pred)\n",
        "roc_auc[\"micro\"] = auc(fpr[\"micro\"], tpr[\"micro\"])\n",
        "  \n",
        "plt.figure()\n",
        "lw = 2\n",
        "plt.plot(fpr[0], tpr[0], color='darkorange',\n",
        "         lw=lw, label='ROC curve (area = %0.2f)' % roc_auc[0])\n",
        "plt.plot([0, 1], [0, 1], color='navy', lw=lw, linestyle='--')\n",
        "plt.xlim([0.0, 1.0])\n",
        "plt.ylim([0.0, 1.05])\n",
        "plt.xlabel('False Positive Rate')\n",
        "plt.ylabel('True Positive Rate')\n",
        "plt.title('Receiver operating characteristic')\n",
        "plt.legend(loc=\"lower right\")\n",
        "plt.show()"
      ],
      "execution_count": null,
      "outputs": [
        {
          "output_type": "display_data",
          "data": {
            "image/png": "[encoded data removed]",
            "text/plain": [
              "<Figure size 432x432 with 1 Axes>"
            ]
          },
          "metadata": {
            "image/png": {
              "width": 393,
              "height": 386
            },
            "needs_background": "light"
          }
        }
      ]
    },
    {
      "cell_type": "code",
      "metadata": {
        "colab": {
          "base_uri": "https://localhost:8080/"
        },
        "id": "_hCWuE5P36Oq",
        "outputId": "d8419082-b4bb-4bd1-9eb3-579e5981e618"
      },
      "source": [
        "def prediccion(texto):\n",
        "  lista=[]\n",
        "  lista.append(texto)\n",
        "  lista= [normalize(x) for x in lista]\n",
        "  tokenized = tokenizer.texts_to_sequences(lista)\n",
        "  test = pad_sequences(tokenized, maxlen=MAX_LEN)\n",
        "  prediction = model.predict(test)\n",
        "  print( prediction)\n",
        "  if ( prediction > 0.5) : print(\"POSITIVO\")\n",
        "  else: print(\"NEGATIVO\")\n",
        "\n",
        "  print(test)\n",
        "\n",
        "#Predicción de 1 estrella IMDB (Armagedon)\n",
        "texto= \"Me gustan las películas de acción. Tengo una debilidad por las películas con diálogos malos y actuaciones de mala calidad. Así que me he devanado los sesos para encontrar uno de mis placeres culpables que fuera peor que esta superproducción. No puedo. Es difícil encontrar un pedazo de mierda más grande que este vehículo de Bruce Willis. Armageddon es la historia (y uso este término de forma imprecisa) de un equipo de \\\"Superperforadores\\\" que vuelan para destruir un asteroide antes de que destruya la Tierra. ¿Es realista? La verdad es que no. ¿Pero a quién le importa? Es una película de acción. La película comienza con un par de escenas diseñadas para presentar la amenaza y los personajes. Bruce Willis es el líder más duro del equipo, y pasa su primer tiempo en pantalla persiguiendo a Ben Affleck con una pistola por el imperdonable acto de acostarse con su hija. Por alguna razón, eso no me hizo reír. El equipo es llamado porque son las únicas personas en todo el mundo que pueden perforar el asteroide. Vale, estoy dispuesto a aceptar esa premisa si nos lleva a la acción, el supuesto meollo de la película. Más intentos de humor, con cada personaje saliendo a hacer alguna locura antes de despegar. Una vez más, es una lástima. Finalmente, despegan. Aquí es donde la película realmente me ha hecho polvo. Llegan a la roca y se ponen a trabajar. ¿Te lo puedes creer? ¡¡¡Nada funciona bien y todo tiene una cuenta atrás de suspenso!!! ¡Whoah! Diez, nueve, ocho... uno... ¡Oh, sorpresa, hemos salvado el día otra vez! Y no me hagas hablar de la cámara espasmódica. Cuando la vi en el cine pensé que me iba a enfermar. Sólo puedo suponer que intentaban tapar los enormes agujeros dejados por las insípidas interpretaciones cortando a un plano diferente cada pocos segundos (y esto lo dice alguien criado en la MTV, el mismo señor de la poca atención).Justo cuando pensaba que no podía ser peor... esperen, hay un final lacrimógeno fabricado que estaba tan hilvanado que hacía que el resto de la película fuera prácticamente Ciudadano Kane.Resumen: Las ocurrencias no eran ingeniosas. La trama... bueno, ya dije que la dejaría pasar. La actuación fue mala. Realmente mala. Ni siquiera Billy Bob pudo superar el guión, que era peor. El trabajo de cámara - de nuevo, malo. (Ni siquiera he mencionado la escena de amor más tonta de la historia del cine - piensa en las galletas de animales).Valoración: 1 de 10. (Doy medio punto por Steve Buscemi, que me hace sonreír en contra de mi voluntad y otro medio punto por las veces que pude mirar a la encantadora Liv Tyler e intentar ignorar su actuación) Esta es, de lejos, la peor película que he ido a ver al cine... nunca.\"\n",
        "\n",
        "prediccion(texto)"
      ],
      "execution_count": null,
      "outputs": [
        {
          "output_type": "stream",
          "name": "stdout",
          "text": [
            "[[0.00116634]]\n",
            "NEGATIVO\n",
            "[[ 718  678  678  295  396  199    1   55    1   32    5  644  190  788\n",
            "     4  924 1490  623  513  409  306   97  683  992  769   61  119  142\n",
            "   409   48   31    6   52 4936 1453 1050 1018  592   55    1 1023  153\n",
            "     4   45 1091 3530 1739  197 3530    1    3 3042  947   93   19   75\n",
            "   206  846  401  492 2003  491  499   27  152  148   66   20 1030  144\n",
            "   338 4222  585  900   69 1863 1133  204  586  784   73 1826  580   20\n",
            "    19   29 5527   27  194    1  819 2661 2057  874   42   76   69   71\n",
            "    13   10    3   10  141 1163  593   89  148   10  141  278    5  103\n",
            "   169    2   66   20 3545   40  805 1503 2005   40   19   56  410 2628\n",
            "  1065   13    1   66]]\n"
          ]
        }
      ]
    },
    {
      "cell_type": "code",
      "metadata": {
        "colab": {
          "base_uri": "https://localhost:8080/"
        },
        "id": "yFaBd6o37yxk",
        "outputId": "8d11444a-7fce-43eb-d6a8-1253cea8f4bb"
      },
      "source": [
        "#Predicción de 10 estrellas de IMDB (La casa de papel)\n",
        "prediccion(\"Este episodio fue probablemente el mejor de toda la serie porque es emocionante durante todo el visionado, no hay una sola parte de este episodio que sea aburrida. También hay que destacar a Esther Martínez Lobato por incorporar las emociones tan bien a lo largo del episodio.\")"
      ],
      "execution_count": null,
      "outputs": [
        {
          "output_type": "stream",
          "name": "stdout",
          "text": [
            "[[0.9978632]]\n",
            "POSITIVO\n",
            "[[   0    0    0    0    0    0    0    0    0    0    0    0    0    0\n",
            "     0    0    0    0    0    0    0    0    0    0    0    0    0    0\n",
            "     0    0    0    0    0    0    0    0    0    0    0    0    0    0\n",
            "     0    0    0    0    0    0    0    0    0    0    0    0    0    0\n",
            "     0    0    0    0    0    0    0    0    0    0    0    0    0    0\n",
            "     0    0    0    0    0    0    0    0    0    0    0    0    0    0\n",
            "     0    0    0    0    0    0    0    0    0    0    0    0    0    0\n",
            "     0    0    0    0    0    0    0    0    0    0    0    0    0    0\n",
            "     0    0    0    0    0    0  116   80   23  654 4666  116   82  684\n",
            "  3927 1802  481  116]]\n"
          ]
        }
      ]
    },
    {
      "cell_type": "code",
      "metadata": {
        "colab": {
          "base_uri": "https://localhost:8080/"
        },
        "id": "c1SreK2R9Hga",
        "outputId": "ae564b78-6f3c-4aca-9f17-24dc1a3beea1"
      },
      "source": [
        "#Predicción de 1 estrella de IMDB  (Sharknado)\n",
        "prediccion(\"Aunque le doy una estrella, recomiendo encarecidamente a todo el mundo que vea esta película. No porque sea buena o tenga un solo factor redentor, sino porque si Ed Wood se propuso intencionadamente con un presupuesto ilimitado hacer la peor película de la historia, no podría haber hecho algo tan malo. La ley de los grandes números parecería implicar que en 86 minutos tendría que acertar en algo por accidente, y sin embargo esta película no lo hace. Un segundo vistazo a Alien Apocalypse (que hay que admitir que requiere una naturaleza masoquista para emprenderla) al menos revela una cinematografía pasable y una iluminación consistente. Y sin embargo, Sharknado se eleva por encima de las matemáticas para darnos una película que es mala en todos los sentidos posibles.La continuidad es ignorada por completo. La misma escena pasa de la luz del día al atardecer, de la lluvia al sol, de la tormenta a la playa tranquila, con cada nuevo ángulo de cámara. Es tan descaradamente mala que te distrae de las incoherencias más sutiles, como los objetos que se mueven, el atuendo, el viento o la calidad de la película de un corte a otro. Si consigues cerrar los ojos, te dejas llevar inmediatamente por el sonido. Cómo se las arregló el editor de sonido para ponerse a trabajar en lo que tuvo que ser una borrachera de ácido de proporciones épicas para garantizar estos resultados me resulta imposible. Me resisto a sugerir el uso de la tecnología de nivelación de sonido de tu equipo de música por miedo a que tu sistema de sonido se derrita por el esfuerzo. Uno se resiste a señalar con el dedo la suspensión de la incredulidad cuando se trata de una película cuya premisa son los tiburones en los tornados, pero sea cual sea el nivel con el que se planea llegar, es casi seguro que se va a quedar muy corto. Esta película tiene más momentos WTF en 86 minutos que los que podría tener Lost en 86 temporadas. Y todo el mundo puede jugar, no sólo los que tienen un conocimiento práctico de la cizalladura del viento o de la física que mantiene un helicóptero en el aire. Si has jugado al billar, has pescado, has hecho surf, has conducido un coche en aguas de más de cinco centímetros de profundidad, has estado expuesto a la gravedad o has interactuado de alguna manera con el mundo que te rodea o lo has comprendido, esta película tiene algo con lo que decir ¡¿qué?!. Y aunque se podría pensar que una vez que se han unido los malos efectos especiales, el mal montaje y el mal sonido, se obtendría al menos un Bruce Campbell del reparto al que agarrarse. Aquí no es así, ya que todos los actores hicieron una interpretación que demuestra que estaban más confundidos que el espectador sobre lo que estaba sucediendo. Podríamos suponer que es porque les dieron el guión desordenado, pero como espectador del producto final no estoy seguro de haber visto las escenas en orden, son así de inconexas. He intentado por todos los medios encontrar algo que se haya hecho bien o digno de mención en esta película y lo único que se me ocurre es que es la única película que he visto que ha fracasado en absolutamente todos los niveles. Si intentaras hacer una película tan mala, sin quererlo, harías algo bien por pura casualidad. Y ese es su único punto de luz brillante. Que sería casi imposible volver a hacer algo tan terrible.\")"
      ],
      "execution_count": null,
      "outputs": [
        {
          "output_type": "stream",
          "name": "stdout",
          "text": [
            "[[0.00183567]]\n",
            "NEGATIVO\n",
            "[[ 257    1  204  762   69 1445  305 1299 1704  305 2373 3095  439 1317\n",
            "  1745  166  166  838 2989  720 1258  305  409   77  286 1077  305  397\n",
            "  2989  967 1754 2890 2276    1  448  592 1483 1284  406 1346  112  129\n",
            "   453  204    1  178   58  511   52   12 1176 2317 1118  987  118 2098\n",
            "   647   30   12   30 1671   30 2873   30  558 1974  534  601   30 1474\n",
            "  4391   30 3158   52  949   30 1535    1   20  798   10   88  143 1954\n",
            "   305   41  924  288   16 1133  424  795  157  108  144   89 2210  157\n",
            "  1333  129    7    5 1132 3209  338  290   17 1668 2259    1   31  606\n",
            "    31    1    7 1470  224 1101  338    1   10   27  572 5105   31   40\n",
            "   196  838   54  133]]\n"
          ]
        }
      ]
    }
  ]
}